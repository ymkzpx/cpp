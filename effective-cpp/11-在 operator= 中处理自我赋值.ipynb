{
 "cells": [
  {
   "cell_type": "markdown",
   "id": "d69b6131",
   "metadata": {},
   "source": [
    "# 11：在 operator= 中处理自我赋值"
   ]
  },
  {
   "cell_type": "markdown",
   "id": "9270764b",
   "metadata": {},
   "source": [
    "operator=，即 copy assignment 函数，可能会导致资源重复泄露。"
   ]
  },
  {
   "cell_type": "markdown",
   "id": "b8a6e424",
   "metadata": {},
   "source": [
    "## 处理自我赋值的方法"
   ]
  },
  {
   "cell_type": "markdown",
   "id": "093382e6",
   "metadata": {},
   "source": [
    "### 1、在 operator= 进行 identity test\n",
    "\n",
    "在 operator= 中检验 operator= 右端的对象与本身是否为同一对象，如果相同则不做任何操作直接返回。\n",
    "\n",
    "```c++\n",
    "Widget& operator=(const Widget& rhs) {\n",
    "  if (this == &rhs) return *this; // identity test\n",
    "  delete pb;\n",
    "  pb = new BitMap(*rhs.pb);\n",
    "  return *this;\n",
    "}\n",
    "```"
   ]
  },
  {
   "cell_type": "markdown",
   "id": "12680d47",
   "metadata": {},
   "source": [
    "### 2、operator= 的异常安全性"
   ]
  },
  {
   "cell_type": "markdown",
   "id": "722e81dc",
   "metadata": {},
   "source": [
    "在operator= / copy assignment 函数，拷贝的过程中，如果自身成员对象有指针资源，需要考虑释放指针资源和申请新的资源(拷贝operator= 右端的对象)的顺序，因为有可能申请新的资源会失败/异常。"
   ]
  },
  {
   "cell_type": "markdown",
   "id": "06a3d869",
   "metadata": {},
   "source": [
    "## 结论\n",
    "\n",
    "- 确保对象在自我赋值时不会出现出错（资源丢失）的情况，常见的解决方案有：identity test（检查赋值对象和被赋值对象的地址是否相同），重新排列赋值顺序以及 copy and swap。\n",
    "\n",
    "- 确定任何函数操作一个以上对象时，其中多个对象是一个对象的情况下行为依然正确。"
   ]
  },
  {
   "cell_type": "code",
   "execution_count": null,
   "id": "2f51e61a",
   "metadata": {},
   "outputs": [],
   "source": []
  }
 ],
 "metadata": {
  "kernelspec": {
   "display_name": "Python 3 (ipykernel)",
   "language": "python",
   "name": "python3"
  },
  "language_info": {
   "codemirror_mode": {
    "name": "ipython",
    "version": 3
   },
   "file_extension": ".py",
   "mimetype": "text/x-python",
   "name": "python",
   "nbconvert_exporter": "python",
   "pygments_lexer": "ipython3",
   "version": "3.10.9"
  }
 },
 "nbformat": 4,
 "nbformat_minor": 5
}
