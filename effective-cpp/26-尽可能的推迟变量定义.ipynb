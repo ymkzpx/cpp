{
 "cells": [
  {
   "cell_type": "markdown",
   "id": "b772b8b6",
   "metadata": {},
   "source": [
    "# 26: 尽可能的推迟变量定义\n",
    "\n",
    "## 结论\n",
    "\n",
    "- 把变量的定义推迟到100%要用到的地方。\n",
    "- 避免 默认构造+赋值，而要直接使用带参数的构造函数。\n",
    "\n",
    "```c++\n",
    "//用:\n",
    "string encrypted(password);\n",
    "\n",
    "//替换掉:\n",
    "string encrypted;\n",
    "encrypted = password;\n",
    "```"
   ]
  }
 ],
 "metadata": {
  "kernelspec": {
   "display_name": "Python 3 (ipykernel)",
   "language": "python",
   "name": "python3"
  },
  "language_info": {
   "codemirror_mode": {
    "name": "ipython",
    "version": 3
   },
   "file_extension": ".py",
   "mimetype": "text/x-python",
   "name": "python",
   "nbconvert_exporter": "python",
   "pygments_lexer": "ipython3",
   "version": "3.10.9"
  }
 },
 "nbformat": 4,
 "nbformat_minor": 5
}
