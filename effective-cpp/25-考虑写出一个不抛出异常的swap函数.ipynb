{
 "cells": [
  {
   "cell_type": "markdown",
   "id": "10bc310c",
   "metadata": {},
   "source": [
    "# 25: 考虑写出一个不抛出异常的swap函数\n",
    "\n",
    "> 参考：\n",
    "> - [《Effective C++》学习笔记（条款25：考虑写出一个不抛异常的swap函数)](https://blog.csdn.net/qq_34168988/article/details/121257754)\n",
    "> - [Effective C++读书笔记(25): swap的高效实现](https://zhuanlan.zhihu.com/p/83968490)"
   ]
  },
  {
   "cell_type": "markdown",
   "id": "4eadb4b1",
   "metadata": {},
   "source": [
    "**前言**\n",
    "\n",
    "**1、std::swap 的实现**\n",
    "\n",
    "对于含有资源对象（指针，vector...）的类，默认的 std::sawp 会将整个内存全部置换，并且会产生三次内存拷贝。\n",
    "\n",
    "```c++\n",
    "template<typename T>\n",
    "void swap(T& x, T& y) {\n",
    "    T temp(x);\n",
    "    x = y;\n",
    "    y = temp;\n",
    "}\n",
    "\n",
    "```\n",
    "\n",
    "**2、为什么要要写自定义的 swap 函数**\n",
    "\n",
    "\n",
    "默认的拷贝构造函数/拷贝赋值函数是浅拷贝，如果我们声明为深拷贝，需要考虑不必要的内存拷贝。\n",
    "\n",
    "\n",
    "对于含有 vector 变量的类，std::swap 会调用拷贝构造函数/拷贝赋值函数，导致对 vector 的复制。\n",
    "\n",
    "\n",
    "\n",
    "\n",
    "**3、什么情况下要重写 std::swap 函数**\n",
    "\n",
    "\n",
    "\n",
    "**4、实参依赖查找**\n",
    "\n",
    "让编译器在全局作用域和实参所在的命名空间里搜索适当的 swap 调用。\n",
    "- **查找顺序：实参所在的命名空间 > std::swap 的T专属特殊化版本 > 默认的 std::swap。**"
   ]
  },
  {
   "cell_type": "markdown",
   "id": "69fabffa",
   "metadata": {},
   "source": [
    "## 特殊化(又称特化)\n",
    "\n",
    "### 1、类的特殊化\n",
    "\n",
    "```c++\n",
    "namespace std{\n",
    "  //特殊化的 std::swap，当T是Widget类型时使用如下实现\n",
    "  template<>\n",
    "  void swap<Widget>(Widget& a, Widget& b){\n",
    "    swap(a.pImpl,b.pImpl); //这里的参数是指针，不会用到该特殊化，所以不用担心无限递归\n",
    "  }\n",
    "}\n",
    "```\n",
    "\n",
    "\"template<>\"代表了下面的代码是对std::swap的 **完全特殊化** (total specialization) 实现，函数名字后面的\"<Widget>\"则代表了当T是Widget类型时使用这个特殊实现。也就是对于其它类型依然使用默认的std::swap，仅仅对于Widget类型才使用特殊化。"
   ]
  },
  {
   "cell_type": "markdown",
   "id": "c91bfe9b",
   "metadata": {},
   "source": [
    "### 2、类模板特殊化\n",
    "\n",
    "```c++\n",
    "template<typename T>\n",
    "class WidgetImpl{...};\n",
    "\n",
    "template<typename T>\n",
    "class Widget{...};\n",
    "```\n",
    "\n",
    "仿照类的特殊化，如下：\n",
    "\n",
    "```c++\n",
    "namespace std{\n",
    "  template<typename T>\n",
    "  void swap<Widget<T>>(Widget<T>& a, Widget<T>& b){ //非法代码\n",
    "    a.swap(b);\n",
    "  }\n",
    "}\n",
    "```\n",
    "\n",
    "上面的代码是不被允许的， std 是个特殊的命名空间，我们 **可以对其中的模板进行特殊化，但不允许添加新的模板**。因为只有C++委员会才可以对std的内容进行修改。"
   ]
  },
  {
   "cell_type": "markdown",
   "id": "7ff105f8",
   "metadata": {},
   "source": [
    "## swap 正确写法\n",
    "\n",
    "### 1、类的特殊化 swap\n",
    "\n",
    "交换两个指针的做法是 `template<> std::swap {A.swap(B)} -> A::swap(B) {std::swap(a.p, b.p)}`。"
   ]
  },
  {
   "cell_type": "markdown",
   "id": "4a13adaf",
   "metadata": {},
   "source": [
    "### 2、类模板特殊化 swap\n",
    "\n",
    "类模板特殊化不能定义在 std 中，需要定义在自己定义的 namespace 中。\n",
    "\n",
    "具体实现：https://zhuanlan.zhihu.com/p/83968490"
   ]
  }
 ],
 "metadata": {
  "kernelspec": {
   "display_name": "Python 3 (ipykernel)",
   "language": "python",
   "name": "python3"
  },
  "language_info": {
   "codemirror_mode": {
    "name": "ipython",
    "version": 3
   },
   "file_extension": ".py",
   "mimetype": "text/x-python",
   "name": "python",
   "nbconvert_exporter": "python",
   "pygments_lexer": "ipython3",
   "version": "3.10.9"
  }
 },
 "nbformat": 4,
 "nbformat_minor": 5
}
