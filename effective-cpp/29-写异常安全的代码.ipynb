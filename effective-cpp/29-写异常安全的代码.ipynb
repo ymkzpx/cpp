{
 "cells": [
  {
   "cell_type": "markdown",
   "id": "42929786",
   "metadata": {},
   "source": [
    "# 29: 写异常安全的代码\n",
    "\n",
    "> https://zhuanlan.zhihu.com/p/87395636"
   ]
  },
  {
   "cell_type": "markdown",
   "id": "3573e0ec",
   "metadata": {},
   "source": [
    "## 结论\n",
    "\n",
    "- 异常安全性的级别：基本保证、强保证、不抛出异常保证。\n",
    "- 保证异常情况下， 也可以 unlock 的 mutex 是如何实现的？[Effective C++读书笔记(14): 资源管理类的拷贝](https://zhuanlan.zhihu.com/p/71805363)"
   ]
  },
  {
   "cell_type": "code",
   "execution_count": null,
   "id": "3d8be694",
   "metadata": {},
   "outputs": [],
   "source": []
  }
 ],
 "metadata": {
  "kernelspec": {
   "display_name": "Python 3 (ipykernel)",
   "language": "python",
   "name": "python3"
  },
  "language_info": {
   "codemirror_mode": {
    "name": "ipython",
    "version": 3
   },
   "file_extension": ".py",
   "mimetype": "text/x-python",
   "name": "python",
   "nbconvert_exporter": "python",
   "pygments_lexer": "ipython3",
   "version": "3.10.9"
  }
 },
 "nbformat": 4,
 "nbformat_minor": 5
}
