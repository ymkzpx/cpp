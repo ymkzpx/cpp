{
 "cells": [
  {
   "cell_type": "markdown",
   "id": "3f88fef7",
   "metadata": {},
   "source": [
    "# 23：多用非成员非友元函数\n",
    "\n",
    "> [Effective C++ 读书笔记 zhihu 专栏](https://zhuanlan.zhihu.com/c_1104392405461315584)"
   ]
  },
  {
   "cell_type": "markdown",
   "id": "a283eaf6",
   "metadata": {},
   "source": [
    "非成员非友元函数 相比 成员函数 可以提供更好的封装，原因是成员函数可以访问私有数据成员。\n",
    "\n",
    "虽然不能作为成员函数，可是为了方便管理，可以将 非成员非友元函数 和 类 放到同一个命名空间里。 "
   ]
  }
 ],
 "metadata": {
  "kernelspec": {
   "display_name": "Python 3 (ipykernel)",
   "language": "python",
   "name": "python3"
  },
  "language_info": {
   "codemirror_mode": {
    "name": "ipython",
    "version": 3
   },
   "file_extension": ".py",
   "mimetype": "text/x-python",
   "name": "python",
   "nbconvert_exporter": "python",
   "pygments_lexer": "ipython3",
   "version": "3.10.9"
  }
 },
 "nbformat": 4,
 "nbformat_minor": 5
}
