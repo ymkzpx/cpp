{
 "cells": [
  {
   "cell_type": "markdown",
   "id": "74599fc5",
   "metadata": {},
   "source": [
    "# 55: 让自己熟悉 Boost\n",
    "\n",
    "boost 库是一个作为 C++ 标准库的补充。\n",
    "\n",
    "Boost 程序库涉及的领域很多：\n",
    "\n",
    "- 字符串与文本处理，比如格式化字符串，正则表达式，语汇单元切割和解析。\n",
    "- 容器，覆盖接口与 STL 相似的数组，bitsets，以及多维数组。\n",
    "- 函数对象和高级编程，覆盖若干被作为 TR1 的程序库，一个有趣的程序库是 Lambda。\n",
    "- 泛型编程，覆盖一大组 traits classes。\n",
    "- 模板元编程，TMP 程序库。\n",
    "- 数学和数值，包括有理数，八元数和四元数，公约数和少见的多重计算，随机数等等。\n",
    "- 正确性和测试，覆盖用来将隐式模板接口形式化的程序库。\n",
    "- 数据结构，覆盖类型安全的 unions，tuples。\n",
    "- 语言间的支持，包括允许 C++ 和 Python 的无缝互操作性。\n",
    "- 内存，覆盖 Pool 程序库，包括智能指针等。\n",
    "- 杂项，包括 CRC 检验，日期和时间处理，文件系统操纵等。"
   ]
  }
 ],
 "metadata": {
  "kernelspec": {
   "display_name": "Python 3 (ipykernel)",
   "language": "python",
   "name": "python3"
  },
  "language_info": {
   "codemirror_mode": {
    "name": "ipython",
    "version": 3
   },
   "file_extension": ".py",
   "mimetype": "text/x-python",
   "name": "python",
   "nbconvert_exporter": "python",
   "pygments_lexer": "ipython3",
   "version": "3.10.9"
  }
 },
 "nbformat": 4,
 "nbformat_minor": 5
}
