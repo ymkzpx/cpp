{
 "cells": [
  {
   "cell_type": "markdown",
   "id": "f9febec2",
   "metadata": {},
   "source": [
    "# 22: 尽量将成员变量声明为 private"
   ]
  },
  {
   "cell_type": "markdown",
   "id": "36a54a82",
   "metadata": {},
   "source": [
    "如果 public 的变量发生了改变，如果这个变量在代码中广泛使用，那么将会有很多代码遭到了破坏，需要重新写，因为 public 变量，可以不仅会用在类方法中，还会被用到类外面的任意地方。\n",
    "\n",
    "另外protected 并不比public更具有封装性，因为protected的变量，在发生改变的时候，他的子类代码也会受到破坏。\n",
    "\n",
    "因此，private 可以更精准的控制成员变量，包括控制读写，只读访问等。"
   ]
  }
 ],
 "metadata": {
  "kernelspec": {
   "display_name": "Python 3 (ipykernel)",
   "language": "python",
   "name": "python3"
  },
  "language_info": {
   "codemirror_mode": {
    "name": "ipython",
    "version": 3
   },
   "file_extension": ".py",
   "mimetype": "text/x-python",
   "name": "python",
   "nbconvert_exporter": "python",
   "pygments_lexer": "ipython3",
   "version": "3.10.9"
  }
 },
 "nbformat": 4,
 "nbformat_minor": 5
}
