{
 "cells": [
  {
   "cell_type": "markdown",
   "id": "6df609c8",
   "metadata": {},
   "source": [
    "# 27: 少用 cast\n",
    "\n"
   ]
  },
  {
   "cell_type": "markdown",
   "id": "47289e3f",
   "metadata": {},
   "source": [
    "## const_cast 常量转换\n",
    "\n",
    "const_cast，用于修改类型的 **const 或 volatile 属性**，只能对是 **引用 或者 指针** 的变量添加或移除 const。\n",
    "\n",
    "```c++\n",
    "int main()\n",
    "{\n",
    "    const int a = 10;\n",
    "    const int* p = &a;\n",
    "    int* q = const_cast<int*>(p);\n",
    "    *q = 20;    // fine, 未定义行为\n",
    "\n",
    "    cout << \"a=\" << a << \" \" << \"&a = \" << &a << endl;\n",
    "    cout << \"*p=\" << *p << \" \" << \"p = \" << p << endl;\n",
    "    cout << \"*q=\" << *q << \" \" << \"q = \" << q << endl;\n",
    "\n",
    "    return 0;\n",
    "}\n",
    "\n",
    "//a = 10 & a = 012FFC10\n",
    "//* p = 20 p = 012FFC10\n",
    "//* q = 20 q = 012FFC10\n",
    "```\n",
    "\n",
    "`*q=20` 语句为未定义行为语句，所谓的未定义行为是指在标准的 C++ 规范中并没有明确规定这种语句的具体行为，该语句的具体行为由编译器来自行决定如何处理，因此要 **避免对 const 指针或引用的修改**。"
   ]
  },
  {
   "cell_type": "markdown",
   "id": "7256eaf6",
   "metadata": {},
   "source": [
    "## static_cast 隐式转换\n",
    "\n",
    "本身就可以完成的自动转换。\n",
    "\n",
    "- 将非常量对象转换为常量对象。\n",
    "- 将 int 转换为 double 等等。\n",
    "- 将 void* 指针转换为 typed 指针。\n",
    "- 将 派生类指针转化为基类指针(上行转换，安全的)。\n",
    "\n",
    "static_cast 关键字是 **不会进行运行时类型检查**。\n",
    "\n",
    "> 例如，基类指针转化成派生类指针(下行转化，不安全)，static_cast 不会进行运行时检查(运行时检查/动态检查，比如要求下行转换必须是多态的，即基类必须存在虚函数)，是可以编译通过的。但 dynamic_cast 会进行动态检查，下行转换会检查基类必须存在虚函数。"
   ]
  },
  {
   "cell_type": "markdown",
   "id": "903b321a",
   "metadata": {},
   "source": [
    "## dynamic_cast 动态转换（运行时检查）\n",
    "\n",
    "类层次结构中基类（父类）和派生类（子类）之间指针或引用的转换。\n",
    "\n",
    "在类层次间进行上行转换时，dynamic_cast和static_cast的效果是一样的。在进行下行转换时，dynamic_cast具有类型检查的功能，比static_cast更安全。\n",
    "\n",
    "dynamic_cast会检查多态，发生多态时，允许互相转换。"
   ]
  },
  {
   "cell_type": "markdown",
   "id": "ddf085fb",
   "metadata": {},
   "source": [
    "## reinterpret_cast 重新解释转换\n",
    "\n",
    "危险的类型转换，一般不会用到。"
   ]
  },
  {
   "cell_type": "markdown",
   "id": "d6433fa6",
   "metadata": {},
   "source": [
    "## 结论\n",
    "\n",
    "- 要多用C++风格的类型转换，少用C风格类型转换。它们更容易被发现，各自服务的功能也更具体。\n",
    "- C++ 四种 xxx_cast 有不同的转换用途。\n",
    "- 基类和派生类之间的转换，static_cast 用于上行转换，dynamic_cast用于下行转换。"
   ]
  }
 ],
 "metadata": {
  "kernelspec": {
   "display_name": "Python 3 (ipykernel)",
   "language": "python",
   "name": "python3"
  },
  "language_info": {
   "codemirror_mode": {
    "name": "ipython",
    "version": 3
   },
   "file_extension": ".py",
   "mimetype": "text/x-python",
   "name": "python",
   "nbconvert_exporter": "python",
   "pygments_lexer": "ipython3",
   "version": "3.10.9"
  }
 },
 "nbformat": 4,
 "nbformat_minor": 5
}
