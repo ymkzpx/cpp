{
 "cells": [
  {
   "cell_type": "markdown",
   "id": "3fa190e0",
   "metadata": {},
   "source": [
    "# 28: 避免返回指向对象内部的handle\n",
    "\n",
    "> https://zhuanlan.zhihu.com/p/86877067\n",
    "\n",
    "handle: 指针、引用、迭代器都可以叫做 handle。"
   ]
  },
  {
   "cell_type": "markdown",
   "id": "3d2c433f",
   "metadata": {},
   "source": [
    "## 结论\n",
    "\n",
    "- 避免返回指向内部成员的\"句柄\"，返回一个 handle 可能导致 private 成员变量被修改。如果必须得话，请给返回的 handle 加 const 属性。\n",
    "- 不要对一个临时对象，得到其句柄，因为是一个“野句柄”。"
   ]
  }
 ],
 "metadata": {
  "kernelspec": {
   "display_name": "Python 3 (ipykernel)",
   "language": "python",
   "name": "python3"
  },
  "language_info": {
   "codemirror_mode": {
    "name": "ipython",
    "version": 3
   },
   "file_extension": ".py",
   "mimetype": "text/x-python",
   "name": "python",
   "nbconvert_exporter": "python",
   "pygments_lexer": "ipython3",
   "version": "3.10.9"
  }
 },
 "nbformat": 4,
 "nbformat_minor": 5
}
