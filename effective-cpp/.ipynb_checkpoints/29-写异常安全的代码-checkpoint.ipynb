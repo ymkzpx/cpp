{
 "cells": [
  {
   "cell_type": "markdown",
   "id": "42929786",
   "metadata": {},
   "source": [
    "# 29: 写异常安全的代码\n",
    "\n",
    "> https://zhuanlan.zhihu.com/p/87395636"
   ]
  },
  {
   "cell_type": "markdown",
   "id": "3573e0ec",
   "metadata": {},
   "source": [
    "## 结论\n",
    "\n",
    "- 异常安全性的级别：基本保证、强保证、不抛出异常保证。\n",
    "     - 基本保证：保证即使抛出了异常，函数也能在有效的状态下运行，没有对象或数据损坏，所有对象也保持内部一致，依然满足类不变量(class invariant)，但是 **程序本身则可能处于不确定状态(如互斥锁没有正确被释放)。**\n",
    "     - 强保证：调用是原子性的。\n",
    "     - 不抛出异常保证：比前两种更加严格，保证一定不会出问题。\n",
    "- 保证异常情况下， 指针的正确性，利用智能指针构建 mutex 类。[Effective C++读书笔记(14): 资源管理类的拷贝](https://zhuanlan.zhihu.com/p/71805363)\n",
    "    - 这个并不是异常情况下， 也可以 unlock 的 mutex。而是智能指针支持 reset 方法，智能指针不需要先 delete 再进行赋值操作，保证了指针不至于指向一个已删除的无意义的对象。"
   ]
  }
 ],
 "metadata": {
  "kernelspec": {
   "display_name": "Python 3 (ipykernel)",
   "language": "python",
   "name": "python3"
  },
  "language_info": {
   "codemirror_mode": {
    "name": "ipython",
    "version": 3
   },
   "file_extension": ".py",
   "mimetype": "text/x-python",
   "name": "python",
   "nbconvert_exporter": "python",
   "pygments_lexer": "ipython3",
   "version": "3.10.9"
  }
 },
 "nbformat": 4,
 "nbformat_minor": 5
}
