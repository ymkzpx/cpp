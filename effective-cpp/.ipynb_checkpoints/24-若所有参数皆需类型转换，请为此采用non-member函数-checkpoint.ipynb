{
 "cells": [
  {
   "cell_type": "markdown",
   "id": "89e58eb3",
   "metadata": {},
   "source": [
    "# 24: 若所有参数皆需类型转换，请为此采用non-member函数"
   ]
  },
  {
   "cell_type": "markdown",
   "id": "7e7eb72f",
   "metadata": {},
   "source": [
    "[条款24：若所有参数皆需类型转换，请为此采用non-member函数](https://normaluhr.github.io/2020/12/31/Effective-C++/#%E6%9D%A1%E6%AC%BE24%E8%8B%A5%E6%89%80%E6%9C%89%E5%8F%82%E6%95%B0%E7%9A%86%E9%9C%80%E7%B1%BB%E5%9E%8B%E8%BD%AC%E6%8D%A2%E8%AF%B7%E4%B8%BA%E6%AD%A4%E9%87%87%E7%94%A8non-member%E5%87%BD%E6%95%B0)"
   ]
  },
  {
   "cell_type": "markdown",
   "id": "8621de8a",
   "metadata": {},
   "source": [
    "**一个问题: 当有两个对象相加+的时候，调用的是哪一个对象的操作符函数？**\n",
    "\n",
    "```c++\n",
    "class Rational {\n",
    "public:\n",
    "  //...\n",
    "  Rational operator+(const Rational rhs) const; \n",
    "pricate:\n",
    "  //...\n",
    "}\n",
    "```\n",
    "\n",
    "如 Rational z = x + y;  调用操作符函数的对象并没有直接显示在代码中，这个操作符的 this 指针指向 x 还是 y 呢？\n",
    "\n",
    "作为成员函数的操作符的第一个隐形参数”this指针”总是指向第一个操作数，所以上边的调用也可以写成：Rational z = x.operator+(y);这就是操作符的更像函数的调用方法。"
   ]
  },
  {
   "cell_type": "markdown",
   "id": "e372eab9",
   "metadata": {},
   "source": [
    "当Ratinoal类的构造函数允许int类型隐式转换为Rational类型时，Rational z = x + 2;是可以通过编译的，因为操作符是被Rational类型的x调用，同时将2隐式转换为Ratinoal类型，完成加法。\n",
    "但是Rational z = 2 + x，却会引发编译器报错，因为由于操作符的第一个操作数不会发生隐式类型转换，所以加号“+”实际上调用的是2，一个int类型的操作符，因此编译器会试图将Rational类型的x转为int，这样是行不通的。"
   ]
  },
  {
   "cell_type": "markdown",
   "id": "8285ab58",
   "metadata": {},
   "source": [
    "因此在你编写诸如加减乘除之类的（但不限于这些）操作符、并假定允许每一个操作数都发生隐式类型转换时，请不要把操作符函数重载为成员函数。因为当第一个操作数不是正确类型时，可能会引发调用的失败。"
   ]
  },
  {
   "cell_type": "markdown",
   "id": "517b6040",
   "metadata": {},
   "source": [
    "**解决方案是**，**将操作符声明为类外的非成员函数**，你可以选择友元让操作符内的运算更便于进行，也可以为私有成员封装更多接口来保证操作符的实现，这都取决于你的选择。\n",
    "\n",
    "```c++\n",
    "// non-member函数\n",
    "class Rational{}\n",
    "const Rational operator+(const Rational& lhs, const Rational& rhs){}\n",
    "```"
   ]
  },
  {
   "cell_type": "markdown",
   "id": "9382c181",
   "metadata": {},
   "source": [
    "**题外话：如果你想禁止隐式类型转换的发生，请把你每一个单参数构造函数后加上关键字explicit。**"
   ]
  }
 ],
 "metadata": {
  "kernelspec": {
   "display_name": "Python 3 (ipykernel)",
   "language": "python",
   "name": "python3"
  },
  "language_info": {
   "codemirror_mode": {
    "name": "ipython",
    "version": 3
   },
   "file_extension": ".py",
   "mimetype": "text/x-python",
   "name": "python",
   "nbconvert_exporter": "python",
   "pygments_lexer": "ipython3",
   "version": "3.10.9"
  }
 },
 "nbformat": 4,
 "nbformat_minor": 5
}
