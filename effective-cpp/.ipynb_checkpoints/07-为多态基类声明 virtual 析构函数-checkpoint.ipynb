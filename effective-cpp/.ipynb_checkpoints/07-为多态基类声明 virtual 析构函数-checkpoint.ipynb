{
 "cells": [
  {
   "cell_type": "markdown",
   "id": "0c7ae292",
   "metadata": {},
   "source": [
    "# 07: 为多态基类声明 virtual 析构函数"
   ]
  },
  {
   "cell_type": "markdown",
   "id": "a3b0f1ec",
   "metadata": {},
   "source": [
    "# 引子：一个常见的错误\n",
    "\n",
    "当我们　delete 一个指向派生类的基类指针时，在这种情况下（所有析构函数都是 non-virtual）只有基类的析构函数被调用了！。这种结果会导致有一部分空间（派生类的额外成员变量）没有释放干净而导致内存泄露。"
   ]
  },
  {
   "cell_type": "markdown",
   "id": "66366a17",
   "metadata": {},
   "source": [
    "## 声明基类析构函数为 virtual "
   ]
  },
  {
   "cell_type": "markdown",
   "id": "8cfeb93e",
   "metadata": {},
   "source": [
    "消除上述问题也很简单，只需要对基类中的析构函数声明为 virtual 即可，delete 操作可以正确的释放掉派生类对象的所有空间。"
   ]
  },
  {
   "cell_type": "markdown",
   "id": "100cdcf5",
   "metadata": {},
   "source": [
    "## 不要将非基类的析构函数声明为 virtual"
   ]
  },
  {
   "cell_type": "markdown",
   "id": "659556d4",
   "metadata": {},
   "source": [
    "### 1、virtual 函数的实现过程\n",
    "\n",
    "每一个带有 virtual 函数的类都有**一个虚表指针**，指向由 virtual 函数指针组成的数组，该数组成为虚表(virtual table, vtbl)。当对象调用某一个 virtual 函数时，程序会通过虚表查找对应的函数来调用。由此可知，声明析构函数为 virtual 会带来额外的内存开销。"
   ]
  },
  {
   "cell_type": "markdown",
   "id": "bdca4f75",
   "metadata": {},
   "source": [
    "### 2、什么时候将析构函数声明为 virtual\n",
    "\n",
    "**使用基类的场景**：因为基类指针可以指向任意的派生类对象，使用基类指针调用 virtual 函数，由此产生了多态。\n",
    "\n",
    "**只有当类中至少包含一个除析构函数外的 virtual 函数时才将析构函数声明为 virtual**，因为如果该类不包含 vitrual 函数，那么通常来说我们并不会打算将其用作基类。同理，任何类只要带有 virtual 函数也几乎确定应该有一个 virtual 析构函数。\n",
    "> 联想到一个错误的例子：基类没有 virtual 函数，派生类只是继承了基类的一些成员方法和变量，并在此基础上，进行增加了方法和变量，这种情况下，需不需要将析构函数声明为 virtual ?\n",
    "> \n",
    "> 这种情况，基类指针不可以调用派生类增加的方法，同时由于没有 virtual 函数，派生类可与调用的方法。\n",
    ">\n",
    "> 重载/覆盖: 重载/覆盖情况下，指向派生类的基类指针也只能调用基类方法。"
   ]
  },
  {
   "cell_type": "markdown",
   "id": "9dd68827",
   "metadata": {},
   "source": [
    "## 利用 pure virtual 析构函数构造抽象类\n",
    "\n",
    "\n",
    "**前置概念**\n",
    "\n",
    "- **纯虚函数：**一个纯虚函数是指在基类中声明但没有提供实现的虚函数。在定义纯虚函数时，可以使用 \"= 0\" 来表示该函数是纯虚函数。这种形式告诉编译器，该函数没有默认的实现，并且派生类必须提供自己的实现。如果派生类不使用纯虚函数，可以不提供实现。\n",
    "- **抽象类：**包含纯虚函数的类被称为抽象类，不能被实例化。只有派生类提供了纯虚函数的实现后，才能创建派生类的对象。\n",
    "\n",
    "因此一个简单的办法是将一个类的析构函数声明为 pure virtual函数，进而将其声明为抽象类。\n"
   ]
  },
  {
   "cell_type": "markdown",
   "id": "2255d03c",
   "metadata": {},
   "source": [
    "纯虚函数等价于，虚函数 + `throw std::runtime_erroor(\"function_name for Trans is not implement.\")`。\n",
    "\n",
    "不太会用到该规则，一般是防止基类实例化，但通常自己不会出现这种问题，同时也会用上面的方法避免该问题。"
   ]
  },
  {
   "cell_type": "markdown",
   "id": "0d9b355f",
   "metadata": {},
   "source": [
    "## 不是所有的类（基类）都带有多态性质"
   ]
  },
  {
   "cell_type": "markdown",
   "id": "91d63277",
   "metadata": {},
   "source": [
    "所有 STL 的容器如（std::string, std::vector, std::list 等等）均不包含 virtual 析构函数。因此继承了 STL 容器的子类，使用多态可能会资源泄露问题。\n",
    "\n",
    "因此 STL 的容器，通常不会被用做基类使用。"
   ]
  },
  {
   "cell_type": "markdown",
   "id": "aed599be",
   "metadata": {},
   "source": [
    "## 结论\n",
    "\n",
    "- **在使用多态的情况下(如果类中带有任何 virtual 函数，可能使用基类调用派生类的方法)，那么它的析构函数也应该是 virtual 的**。\n",
    "- 如果类的设计目的不是用于基类，或者不是为了具备多态性（polymorphically），就不应该声明 virtual 析构函数。"
   ]
  },
  {
   "cell_type": "code",
   "execution_count": null,
   "id": "0a3ecb04",
   "metadata": {},
   "outputs": [],
   "source": []
  }
 ],
 "metadata": {
  "kernelspec": {
   "display_name": "Python 3 (ipykernel)",
   "language": "python",
   "name": "python3"
  },
  "language_info": {
   "codemirror_mode": {
    "name": "ipython",
    "version": 3
   },
   "file_extension": ".py",
   "mimetype": "text/x-python",
   "name": "python",
   "nbconvert_exporter": "python",
   "pygments_lexer": "ipython3",
   "version": "3.10.9"
  }
 },
 "nbformat": 4,
 "nbformat_minor": 5
}
