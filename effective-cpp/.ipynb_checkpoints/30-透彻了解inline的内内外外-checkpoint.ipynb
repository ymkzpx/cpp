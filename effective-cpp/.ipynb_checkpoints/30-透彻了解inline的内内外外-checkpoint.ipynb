{
 "cells": [
  {
   "cell_type": "markdown",
   "id": "5c73bbde",
   "metadata": {},
   "source": [
    "# 30: 透彻了解inline的内内外外\n",
    "\n",
    "inline 关键字，通过来声明一个函数，变成内联函数，作用是，将此函数的每一个调用，都替换为函数本体。\n",
    "\n",
    "基于以上，就会有一些优缺点。\n",
    "\n",
    "优点：\n",
    "- 降低函数调用的开销。\n",
    "\n",
    "缺点：\n",
    "- 增大代码体积：内联函数会被替换到每个调用的地方，会增加代码的大小。\n",
    "- 增加编译时间：编译期，需要对内联函数进行替换，因此会增加编译时间。\n",
    "- 缓存不友好：代码体积增大导致需要加载更多的指令到内存和CPU，相当于之前只需要在内存放一份函数，现在需要放多份，导致缓存命中率下降。"
   ]
  },
  {
   "cell_type": "markdown",
   "id": "e3455332",
   "metadata": {},
   "source": [
    "## 内联函数的使用场景\n",
    "\n",
    "- **简单且被调用频繁** 的函数。"
   ]
  },
  {
   "cell_type": "markdown",
   "id": "388bea73",
   "metadata": {},
   "source": [
    "## 结论\n",
    "- 不要乱用内联函数。\n",
    "- inline 函数不一定生效，具体取决于编译器的检查。"
   ]
  }
 ],
 "metadata": {
  "kernelspec": {
   "display_name": "Python 3 (ipykernel)",
   "language": "python",
   "name": "python3"
  },
  "language_info": {
   "codemirror_mode": {
    "name": "ipython",
    "version": 3
   },
   "file_extension": ".py",
   "mimetype": "text/x-python",
   "name": "python",
   "nbconvert_exporter": "python",
   "pygments_lexer": "ipython3",
   "version": "3.10.9"
  }
 },
 "nbformat": 4,
 "nbformat_minor": 5
}
