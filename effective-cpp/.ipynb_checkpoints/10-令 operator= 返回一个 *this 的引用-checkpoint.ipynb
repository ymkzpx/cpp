{
 "cells": [
  {
   "cell_type": "markdown",
   "id": "c889234c",
   "metadata": {},
   "source": [
    "# 10: 令 operator= 返回一个 *this 的引用"
   ]
  },
  {
   "cell_type": "markdown",
   "id": "971c3291",
   "metadata": {},
   "source": [
    "返回引用，有利用减少拷贝次数。"
   ]
  },
  {
   "cell_type": "markdown",
   "id": "25833fec",
   "metadata": {},
   "source": [
    "## 结论\n",
    "\n",
    "令赋值操作符返回一个 `*this` 的引用。"
   ]
  },
  {
   "cell_type": "code",
   "execution_count": null,
   "id": "f222a33e",
   "metadata": {},
   "outputs": [],
   "source": []
  }
 ],
 "metadata": {
  "kernelspec": {
   "display_name": "Python 3 (ipykernel)",
   "language": "python",
   "name": "python3"
  },
  "language_info": {
   "codemirror_mode": {
    "name": "ipython",
    "version": 3
   },
   "file_extension": ".py",
   "mimetype": "text/x-python",
   "name": "python",
   "nbconvert_exporter": "python",
   "pygments_lexer": "ipython3",
   "version": "3.10.9"
  }
 },
 "nbformat": 4,
 "nbformat_minor": 5
}
