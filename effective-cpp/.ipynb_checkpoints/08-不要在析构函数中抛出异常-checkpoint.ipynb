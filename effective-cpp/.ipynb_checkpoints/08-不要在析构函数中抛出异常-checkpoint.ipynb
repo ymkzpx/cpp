{
 "cells": [
  {
   "cell_type": "markdown",
   "id": "282ef0bb",
   "metadata": {},
   "source": [
    "# 08: 不要在析构函数中抛出异常"
   ]
  },
  {
   "cell_type": "markdown",
   "id": "97eca92b",
   "metadata": {},
   "source": [
    "## 结论\n",
    "\n",
    "1. 不要在析构函数中抛出异常。\n",
    "- 异常如果关键并且后续程序无法执行：在析构函数中接住异常并主动终止，使用 `std::abort()`。\n",
    "```c++\n",
    "~DBConn::DBConn() {\n",
    "        try {\n",
    "            db.close();\n",
    "        }\n",
    "        catch(...) {\n",
    "            // 记录关闭失败记录并主动终止程序\n",
    "            std::abort();\n",
    "        }\n",
    "    }\n",
    "```\n",
    "- 异常并不会对程序进行运行和结果导致很大影响：选择将异常接住并记录异常抛出过程，然后不做其他记录让程序继续进行。\n",
    "```c++\n",
    "~DBConn::DBConn() {\n",
    "        try {\n",
    "            db.close();\n",
    "        }\n",
    "        catch(...) {\n",
    "            // 记录关闭失败记录\n",
    "        }\n",
    "    }\n",
    "```\n",
    "\n",
    "2. *如果使用者需要对该异常进行处理，那么类中应该提供一个普通函数执行该操作*。"
   ]
  },
  {
   "cell_type": "code",
   "execution_count": null,
   "id": "cec23cba",
   "metadata": {},
   "outputs": [],
   "source": []
  }
 ],
 "metadata": {
  "kernelspec": {
   "display_name": "Python 3 (ipykernel)",
   "language": "python",
   "name": "python3"
  },
  "language_info": {
   "codemirror_mode": {
    "name": "ipython",
    "version": 3
   },
   "file_extension": ".py",
   "mimetype": "text/x-python",
   "name": "python",
   "nbconvert_exporter": "python",
   "pygments_lexer": "ipython3",
   "version": "3.10.9"
  }
 },
 "nbformat": 4,
 "nbformat_minor": 5
}
