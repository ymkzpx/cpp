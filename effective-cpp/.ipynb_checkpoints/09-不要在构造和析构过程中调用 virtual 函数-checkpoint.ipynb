{
 "cells": [
  {
   "cell_type": "markdown",
   "id": "dad7076e",
   "metadata": {},
   "source": [
    "# 09-不要在构造和析构过程中调用 virtual 函数"
   ]
  },
  {
   "cell_type": "markdown",
   "id": "b7653d59",
   "metadata": {},
   "source": [
    "## 为什么不能在构造过程中调用 virtual 函数\n",
    "\n",
    "- 对象类型：基类的构造函数调用阶段，对象的类型实际上时基类的类型。基类中调用的虚函数调用的是其自己的而不属于派生类。\n",
    "- 安全性角度：由于基类的构造函数先于派生类中的构造函数被调用，因此在基类的构造函数被调用时，派生类中独有的成员变量还未被初始化，假如这个时候调用派生类的虚函数定义，有可能会因为调用未初始化的成员变量而导致程序发生未定义行为。"
   ]
  },
  {
   "cell_type": "markdown",
   "id": "96b291a9",
   "metadata": {},
   "source": [
    "## 为什么不能在析构过程中调用 virtual 函数\n",
    "\n",
    "派生类和基类析构函数的调用顺序和构造函数**相反**：即析构时，先调用派生类的析构函数，再调用基类的析构函数。\n",
    "\n",
    "- 对象类型：调用基类的析构函数时，对象的类型实际上时基类的类型。基类中调用的虚函数调用的是其自己的而不属于派生类。\n",
    "- 安全性：由于派生类的析构函数先于基类的析构函数，因此在基类调用虚函数，此时派生类的独有成员变量已经被销毁，假如这个时候调用派生类的虚函数定义，有可能会因为调用已经被销毁的成员变量而导致程序发生未定义行为。\n"
   ]
  },
  {
   "cell_type": "markdown",
   "id": "0a8cc9f9",
   "metadata": {},
   "source": [
    "# 结论\n",
    "\n",
    "不要再构造和析构期间调用 virtual 函数，因为调用时只会调用该层次（基类）的定义而不会下降至调用派生类的定义。"
   ]
  },
  {
   "cell_type": "code",
   "execution_count": null,
   "id": "f924738f",
   "metadata": {},
   "outputs": [],
   "source": []
  }
 ],
 "metadata": {
  "kernelspec": {
   "display_name": "Python 3 (ipykernel)",
   "language": "python",
   "name": "python3"
  },
  "language_info": {
   "codemirror_mode": {
    "name": "ipython",
    "version": 3
   },
   "file_extension": ".py",
   "mimetype": "text/x-python",
   "name": "python",
   "nbconvert_exporter": "python",
   "pygments_lexer": "ipython3",
   "version": "3.10.9"
  }
 },
 "nbformat": 4,
 "nbformat_minor": 5
}
