{
 "cells": [
  {
   "cell_type": "markdown",
   "id": "6b497418",
   "metadata": {},
   "source": [
    "# 05: 了解 C++ 静默编写和调用的函数"
   ]
  },
  {
   "cell_type": "markdown",
   "id": "dddd285e",
   "metadata": {},
   "source": [
    "## 引子\n",
    "\n",
    "[空类默认生成的函数](https://stackoverflow.com/questions/4044275/how-many-default-methods-does-a-class-have)\n",
    "\n",
    "\n",
    "想象一下我们写了如下空类：\n",
    "\n",
    "```C++\n",
    "class Empty{};\n",
    "```\n",
    "\n",
    "看似这个类里没有任何成员变量和方法，但是通过编译器编译之后，会自动地为我们的类添加一些函数，添加了函数之后的类和以下类等效：\n",
    "\n",
    "```C++\n",
    "class Empty {\n",
    "public:\n",
    "    // default 构造函数\n",
    "    Empty() {}\n",
    "    // copy 构造函数\n",
    "    Empty(const Empty& rhs) {}\n",
    "    // 析构函数\n",
    "    ~Empty() {}\n",
    "    // copy assignment 操作符\n",
    "    Empty& operator=(const Empty& rhs) {}\n",
    "    \n",
    "    // move constructor (C++11)\n",
    "    Empty(Empty&& other) {}\n",
    "    // move assignment operator (C++11)\n",
    "    Empty& operator=(Empty&& other) {}\n",
    "};\n",
    "```\n",
    "\n",
    "下面我们来讨论一下这四类函数(除了C++11的两个)的具体情况，详细介绍 copy 构造函数和 copy assignment 操作符。"
   ]
  },
  {
   "cell_type": "markdown",
   "id": "53ff74b2",
   "metadata": {},
   "source": [
    "## default 构造函数和析构函数\n",
    "\n",
    "default 构造函数和析构函数的作用主要是：调用该类 base class 和 non-static 成员变量的构造函数和析构函数。这里注意两点：\n",
    "- 由于 default 构造函数只会执行 non-static 成员变量的构造函数，所以对基本类型的成员变量并不会自发地进行初始化，如同 条款04 所说，如果我们的类有基本类型成员变量，我们应该手动创建构造函数通过初始化列表对其进行初始化。\n",
    "- *编译器自动生成的析构函数是 non-virtual 的，除非该类的 base class 自身声明有 virtual 析构函数。*"
   ]
  },
  {
   "cell_type": "markdown",
   "id": "58de6ae9",
   "metadata": {},
   "source": [
    "## copy 构造函数和 copy assignment 操作符\n",
    "\n",
    "当类中声明了任意的构造函数，编译器就不会生成默认构造函数。一个经典的例子是：声明了带参数的默认构造函数，编译器就不会自动生成不需要参数的构造函数。但如果此时没有 copy 构造函数和 copy assignment 操作符，编译器还是会自动创建这两个函数。"
   ]
  },
  {
   "cell_type": "markdown",
   "id": "6e03dd40",
   "metadata": {},
   "source": [
    "### 1、copy 构造函数\n",
    "\n",
    "- 编译器 copy 构造函数的行为：使用传入类中的每一个成员变量，对自身所有成员变量进行构造或者拷贝。不同类型的成员变量有不同的构造方法：\n",
    "    - 非基本类型：调用 copy 构造函数。\n",
    "    - 基本类型：基本类型没有构造函数，将变量的每一个 bit 复制到自身成员变量。"
   ]
  },
  {
   "cell_type": "markdown",
   "id": "51fc79f2",
   "metadata": {},
   "source": [
    "### 2、copy assignment 操作符\n",
    "\n",
    "由编译器生成的 copy assignment 操作符在一般情况下和 copy 构造函数的行为并无区别。但是能够自动生成 operator= 的条件是上述操作必须合法。\n",
    "\n",
    "在某些情况下，编译器会拒绝为 class 生成 operator=，下面介绍不生成的情况:\n",
    "1. 成员变量有引用属性：reference 只能引用至同一对象不能改变，不能修改引用。\n",
    "2. 成员变量有const属性：const 是不允许被修改的，因此如果直接赋值（或拷贝）的操作的也是不合法的。\n",
    "3. 父子类之间，父类的 copy assignment 操作符具有 private 属性：其原因是当涉及到到继承时，子类中自动生成的 operator= 会需要调用父类的 operator= 来进行父类中成员变量的赋值。但是如果我们采用 public 继承的方式，当子类无法调用父类的 operator= 时编译器会拒绝生成并将其标记为 deleted。\n",
    "[具体例子](https://github.com/XiaotaoGuo/Effective-Cpp-Reading-Note/blob/master/2.ConstructorsDestructorsAndAssignmentOperation/05.KnowWhatFunctionsCppSilentlyWritesAndCalls.md#copy-assignment-%E6%93%8D%E4%BD%9C%E7%AC%A6)\n",
    "\n",
    "\n"
   ]
  },
  {
   "cell_type": "code",
   "execution_count": null,
   "id": "390cb01f",
   "metadata": {},
   "outputs": [],
   "source": []
  }
 ],
 "metadata": {
  "kernelspec": {
   "display_name": "Python 3 (ipykernel)",
   "language": "python",
   "name": "python3"
  },
  "language_info": {
   "codemirror_mode": {
    "name": "ipython",
    "version": 3
   },
   "file_extension": ".py",
   "mimetype": "text/x-python",
   "name": "python",
   "nbconvert_exporter": "python",
   "pygments_lexer": "ipython3",
   "version": "3.10.9"
  }
 },
 "nbformat": 4,
 "nbformat_minor": 5
}
