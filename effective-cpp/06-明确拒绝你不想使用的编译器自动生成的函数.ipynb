{
 "cells": [
  {
   "cell_type": "markdown",
   "id": "e794a2aa",
   "metadata": {},
   "source": [
    "# 06: 明确拒绝你不想使用的编译器自动生成的函数"
   ]
  },
  {
   "cell_type": "markdown",
   "id": "d692232e",
   "metadata": {},
   "source": [
    "## 引子\n",
    "\n",
    "独一无二的对象应该禁用 **拷贝构造函数** 和 **拷贝赋值操作符**。"
   ]
  },
  {
   "cell_type": "markdown",
   "id": "5172668a",
   "metadata": {},
   "source": [
    "## 将不需要编译器自动生成的函数声明为 private\n",
    "\n",
    "- 报错时机：遇到调用 拷贝构造函数 和 拷贝赋值操作符的操作，会在**编译期**报错。\n",
    "\n",
    "- 安全性：不安全的方式，类内部的成员函数和友元类可以调用。"
   ]
  },
  {
   "cell_type": "markdown",
   "id": "30ceebc2",
   "metadata": {},
   "source": [
    "## 将不需要编译器自动生成的函数在基类中声明为 private\n",
    "\n",
    "- 报错时机：在基类中我们已将其声明为 private，编译器会拒绝为子类生成默认方法并报错误，会在**编译期**报错。\n",
    "- 安全性：无安全性问题。"
   ]
  },
  {
   "cell_type": "markdown",
   "id": "ce2b9ef7",
   "metadata": {},
   "source": [
    "## 将不需要编译器生成的函数声明并标记为 delete\n",
    "\n",
    "使用方法，将不需要的函数显示标记 delete 关键字。 C++11 引用，更加简介和直观。\n",
    "\n",
    "- 报错时机：编译期报错。\n",
    "- 安全性：无安全性问题\n"
   ]
  },
  {
   "cell_type": "markdown",
   "id": "c2e79f05",
   "metadata": {},
   "source": [
    "## 总结\n",
    "\n",
    "应该且必须使用第三种 delete 关键字方法。"
   ]
  },
  {
   "cell_type": "code",
   "execution_count": null,
   "id": "f8092feb",
   "metadata": {},
   "outputs": [],
   "source": []
  }
 ],
 "metadata": {
  "kernelspec": {
   "display_name": "Python 3 (ipykernel)",
   "language": "python",
   "name": "python3"
  },
  "language_info": {
   "codemirror_mode": {
    "name": "ipython",
    "version": 3
   },
   "file_extension": ".py",
   "mimetype": "text/x-python",
   "name": "python",
   "nbconvert_exporter": "python",
   "pygments_lexer": "ipython3",
   "version": "3.10.9"
  }
 },
 "nbformat": 4,
 "nbformat_minor": 5
}
