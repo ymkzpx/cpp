{
 "cells": [
  {
   "cell_type": "markdown",
   "id": "5897c8ee",
   "metadata": {},
   "source": [
    "# 04: 确定对象被使用前已被初始化\n",
    "\n",
    "> https://github.com/XiaotaoGuo/Effective-Cpp-Reading-Note/blob/master/1.AccustomingYourselfToCpp/04.MakeSureThatObjectsAreInitilizedBeforeTheyAreUsed.md"
   ]
  },
  {
   "cell_type": "markdown",
   "id": "cbfde107",
   "metadata": {},
   "source": [
    "## 内置类型变量的初始化\n",
    "\n",
    "变量在没有初始化，直接使用可能会导致未定义的行为。"
   ]
  },
  {
   "cell_type": "markdown",
   "id": "b3666105",
   "metadata": {},
   "source": [
    "## 自定义类对象的初始化"
   ]
  },
  {
   "cell_type": "markdown",
   "id": "e306d017",
   "metadata": {},
   "source": [
    "### 1、赋值和初始化的区别\n",
    "\n",
    "构造函数函数体内部对变量的操作是赋值，不是初始化。\n",
    "\n",
    "这样的话，对于非内置类型，会导致发生了两次”赋值“，第一次是自动初始化(自动调用默认构造函数)，第二次是构造函数内部。对于内置类型，不会自动初始化，所以只发生了一次赋值。\n",
    "\n",
    "```C++\n",
    "class PhoneNumber { ... };\n",
    "\n",
    "class AddressBookEntry {\n",
    "public:\n",
    "    AddressBookEntry(const std::string& name, const std::string& address, const std::list<PhoneNumber>& phones);\n",
    "\n",
    "private:\n",
    "    std::string theName;\n",
    "    std::string theAddress;\n",
    "    std::list<PhoneNumber> thePhones;\n",
    "    int numTimesConsulted = 12312;\n",
    "};\n",
    "\n",
    "AddressBookEntry::AddressBookEntry(const std::string& name, const std::string& address, const std::list<PhoneNumber>& phones) {\n",
    "\n",
    "    // 下面都是赋值操作，而非初始化！\n",
    "    theName = name;\n",
    "    theAddress = address;\n",
    "    thePhones = phones;\n",
    "    numTimesConsulted = 0;\n",
    "}\n",
    "```\n",
    "\n",
    "[赋值和初始化的区别代码例子](https://github.com/XiaotaoGuo/Effective-Cpp-Reading-Note/blob/master/1.AccustomingYourselfToCpp/04.MakeSureThatObjectsAreInitilizedBeforeTheyAreUsed.md#%E8%B5%8B%E5%80%BC%E5%92%8C%E5%88%9D%E5%A7%8B%E5%8C%96%E7%9A%84%E5%8C%BA%E5%88%AB)"
   ]
  },
  {
   "cell_type": "markdown",
   "id": "fabe5f8b",
   "metadata": {},
   "source": [
    "### 2、初始化列表的使用\n",
    "\n",
    "为了避免重复”赋值“，建议使用初始化列表，使得成员变量的构造函数只会被调用一次。对于大多数类型而言，使用一次 copy 构造函数的成本比使用一次 default 构造函数再使用一次 copy assignment 是要低的。而针对基本类型，虽然其不会在声明的时候初始化因而初始化和赋值的成本相同，但是为了一致性最好也使用一个初值来进行初始化。另外，**当我们确实想要使用 default 构造函数时同样也可以使用初始化列表，只需要不传入参数即可**，如下所示：\n",
    "\n",
    "\n",
    "```c++\n",
    "AddressBookEntry(): theName(), // 不传入参数, 使用default构造函数\n",
    "                    theAddress(),\n",
    "                    thePhones(),\n",
    "                    numTimesConsulted(0),\n",
    "                    thePerson() {}\n",
    "```"
   ]
  },
  {
   "cell_type": "markdown",
   "id": "74ffaaf9",
   "metadata": {},
   "source": [
    "由于编译器会为用户自定义类型的成员变量自动调用 default 构造函数，所以有时候即便不将其写在初始化列表中也不会出错，而如果我们将所有使用 default 构造函数的变量也放入初始化列表中可能会造成代码看上去有点夸张。**但是避免记忆哪些变量已被/未被初始化，我们还是应该将所有成员变量都放入初始化列表中。**"
   ]
  },
  {
   "cell_type": "markdown",
   "id": "32794dbb",
   "metadata": {},
   "source": [
    "同时，尤其记住 基本类型(int、float、bool) 的成员变量一定要在初始化列表中通过初值来进行初始化，否则会因为其没有初值而发生未定义行为。并且，当该内置类型变量是 const 或者 reference 的时候，则不能被赋值，而只能通过初值来进行初始化，这个时候如果不放入初始化列表中就不能通过编译。\n",
    "\n",
    "此外，类的初始化列表中的成员变量初始化顺序与其在类中声明的顺序相同，而**不是按照初始化列表中的顺序**来执行。而构造函数内部的语句则按照顺序执行。"
   ]
  },
  {
   "cell_type": "markdown",
   "id": "72f56b34",
   "metadata": {},
   "source": [
    "## 变量初始化顺序"
   ]
  },
  {
   "cell_type": "markdown",
   "id": "c74be149",
   "metadata": {},
   "source": [
    "### 1、成员变量初始化的顺序\n",
    "\n",
    "无论以什么顺序写初始化列表，C++ 始终以一个固定的顺序对成员变量进行初始化：父类 -> 子类 以及按顺序初始化成员变量，即下面两种构造函数写法的成员变量初始化顺序是一样的：\n",
    "\n",
    "```c++\n",
    "// type 1\n",
    "class C{\n",
    "public:\n",
    "    C() : a(), b() {}\n",
    "\n",
    "private:\n",
    "    A a;\n",
    "    B b;\n",
    "};\n",
    "\n",
    "// type 2\n",
    "class C{\n",
    "public:\n",
    "    C(): b(), a() {}\n",
    "\n",
    "private:\n",
    "    A a;\n",
    "    B b;\n",
    "};\n",
    "```\n",
    "\n",
    "虽然我们以不同顺序写入成员变量不影响实际初始化顺序，但为了避免使用者/自己混淆，以及出现可能的错误（例如初始化 array 时必须先知道长度，因此代表长度的成员变量必须先初始化），我们在实际编码的时候还是应该严格**按照声明顺序写初始化列表**。"
   ]
  },
  {
   "cell_type": "markdown",
   "id": "9091d66b",
   "metadata": {},
   "source": [
    "### 2、不同编译单元内定义的 non-local static 对象的初始化顺序\n",
    "\n",
    "标题的”不同编译单元内定义的 non-local static 对象的初始化顺序“包含了几个概念:\n",
    "- 不同编译单元：每个 target 对应的源码。\n",
    "- non-local static 对象\n",
    "    - static 对象：寿命从被构造开始到程序退出后结束。包括：\n",
    "        - global 对象。\n",
    "        - 定义在 namespace 作用域的对象。\n",
    "        - 在 classes 内，在函数内，在 file 作用域内被声明为 static 的对象。\n",
    "\n",
    "    > 其中在函数内的对 static 对象为 local-static 对象，其余的都是 non-local static 对象。\n",
    "    \n",
    "不同编译单元内定义的 non-local static 对象的初始化顺序是**没有明确定义的！** 错误的 non-local static 对象的调用，可能会出现**未初始化对象**被调用的情况。\n",
    "\n",
    "解决方法是，讲 non-local static 对象变为 local-static 对象。\n",
    "> 将该对象在该函数内声明为 static，调用该函数时返回该 static 对象的 reference，用户在需要使用这些变量时只需要调用这些函数即可。其原理在于： C++ 保证了函数内 local static 对象会在函数被调用期间，并且首次遇上该对象定义式时进行初始化。\n",
    "\n",
    "好处：如果我们不需要调用该函数时，该 static 对象从未被初始化，因此也省去了构造函数和析构函数的成本。"
   ]
  },
  {
   "cell_type": "markdown",
   "id": "2934a56d",
   "metadata": {},
   "source": [
    "## 总结\n",
    "\n",
    "本条款可以概括如下：\n",
    "\n",
    "- 对于内置类型对象一定要进行手动初始化，因为 C++ 不保证在声明时会对他们进行初始化。\n",
    "- 构造函数中最好使用初始化列表对成员变量进行初始化，而不是在函数内部对其进行赋值；另外初始化列表中成员变量的顺序应该和声明变量时顺序一致。\n",
    "- 为了避免跨编译单元的初始化顺序问题，尽量以 local static 对象代替 non-local static 对象。"
   ]
  },
  {
   "cell_type": "code",
   "execution_count": null,
   "id": "bd7490db",
   "metadata": {},
   "outputs": [],
   "source": []
  }
 ],
 "metadata": {
  "kernelspec": {
   "display_name": "Python 3 (ipykernel)",
   "language": "python",
   "name": "python3"
  },
  "language_info": {
   "codemirror_mode": {
    "name": "ipython",
    "version": 3
   },
   "file_extension": ".py",
   "mimetype": "text/x-python",
   "name": "python",
   "nbconvert_exporter": "python",
   "pygments_lexer": "ipython3",
   "version": "3.10.9"
  }
 },
 "nbformat": 4,
 "nbformat_minor": 5
}
