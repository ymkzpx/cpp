{
 "cells": [
  {
   "cell_type": "markdown",
   "id": "0ca44e7a",
   "metadata": {},
   "source": [
    "# 01: 理解模板类型推导\n",
    "\n",
    "理解模板类型推导的规则。"
   ]
  },
  {
   "cell_type": "markdown",
   "id": "6e87b1e9",
   "metadata": {},
   "source": [
    "首先给出一个函数模板的伪代码：\n",
    "\n",
    "```c++\n",
    "template<typename T>\n",
    "void f(ParamType param);\n",
    "```\n",
    "\n",
    "调用的时候:\n",
    "\n",
    "`f(expr);`\n",
    "\n",
    "编译期间，编译器使用 expr 进行两个类型推导：\n",
    "- 一个是针对 T 的，推导出 T 的类型。\n",
    "- 另一个是针对 ParamType 的，推导出 ParamType 的类型。\n",
    "\n",
    "这两个通常是不同的，因此 ParamType 包含一些修饰。"
   ]
  }
 ],
 "metadata": {
  "kernelspec": {
   "display_name": "Python 3 (ipykernel)",
   "language": "python",
   "name": "python3"
  },
  "language_info": {
   "codemirror_mode": {
    "name": "ipython",
    "version": 3
   },
   "file_extension": ".py",
   "mimetype": "text/x-python",
   "name": "python",
   "nbconvert_exporter": "python",
   "pygments_lexer": "ipython3",
   "version": "3.9.7"
  }
 },
 "nbformat": 4,
 "nbformat_minor": 5
}
