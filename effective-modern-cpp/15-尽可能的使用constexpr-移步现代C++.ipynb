{
 "cells": [
  {
   "cell_type": "markdown",
   "id": "4c96f8fc",
   "metadata": {},
   "source": [
    "# 15: 尽可能的使用constexpr\n",
    "\n",
    "> [条款十五：尽可能的使用constexpr](https://github.com/CnTransGroup/EffectiveModernCppChinese/blob/master/src/3.MovingToModernCpp/item15.md)"
   ]
  },
  {
   "cell_type": "markdown",
   "id": "ce091468",
   "metadata": {},
   "source": [
    "## 结论\n",
    "- constexpr 对象是 const，它被在编译期可知的值初始化。\n",
    "- 当传递编译期可知的值时，constexpr 函数可以产出编译期可知的结果。\n",
    "- constexpr对象和constexpr函数可以使用的范围(指的是constexpr的可传递性)比non-constexpr对象和函数大得多。\n",
    "- constexpr是对象和函数接口的一部分。"
   ]
  }
 ],
 "metadata": {
  "kernelspec": {
   "display_name": "Python 3 (ipykernel)",
   "language": "python",
   "name": "python3"
  },
  "language_info": {
   "codemirror_mode": {
    "name": "ipython",
    "version": 3
   },
   "file_extension": ".py",
   "mimetype": "text/x-python",
   "name": "python",
   "nbconvert_exporter": "python",
   "pygments_lexer": "ipython3",
   "version": "3.10.9"
  }
 },
 "nbformat": 4,
 "nbformat_minor": 5
}
