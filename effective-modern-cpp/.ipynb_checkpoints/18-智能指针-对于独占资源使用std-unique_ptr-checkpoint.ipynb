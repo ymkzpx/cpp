{
 "cells": [
  {
   "cell_type": "markdown",
   "id": "bede4a2a",
   "metadata": {},
   "source": [
    "# 18: 对于独占资源使用 std::unique_ptr\n",
    "\n",
    "## std::unique_ptr 特点：\n",
    "- 轻量级、快速的、只可移动（move-only）的管理专有所有权语义资源的智能指针。\n",
    "- 默认情况，资源销毁通过delete实现，但是支持自定义删除器。有状态的删除器和函数指针会增加std::unique_ptr对象的大小。\n",
    "- **将std::unique_ptr转化为std::shared_ptr非常简单。**"
   ]
  }
 ],
 "metadata": {
  "kernelspec": {
   "display_name": "Python 3 (ipykernel)",
   "language": "python",
   "name": "python3"
  },
  "language_info": {
   "codemirror_mode": {
    "name": "ipython",
    "version": 3
   },
   "file_extension": ".py",
   "mimetype": "text/x-python",
   "name": "python",
   "nbconvert_exporter": "python",
   "pygments_lexer": "ipython3",
   "version": "3.10.9"
  }
 },
 "nbformat": 4,
 "nbformat_minor": 5
}
