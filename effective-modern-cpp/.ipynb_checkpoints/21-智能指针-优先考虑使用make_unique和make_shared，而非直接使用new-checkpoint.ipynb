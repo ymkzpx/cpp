{
 "cells": [
  {
   "cell_type": "markdown",
   "id": "70c16716",
   "metadata": {},
   "source": [
    "# 21: 优先考虑使用 std::make_unique 和 std::make_shared，而非直接使用 new\n",
    "\n",
    "一个基础版本的 std::make_unique 是很容易自己写出的，如下：\n",
    "\n",
    "```c++\n",
    "template<typename T, typename... Ts>\n",
    "std::unique_ptr<T> make_unique(Ts&&... params)\n",
    "{\n",
    "    return std::unique_ptr<T>(new T(std::forward<Ts>(params)...));\n",
    "}\n",
    "```\n",
    "\n",
    "正如你看到的，make_unique 只是将它的参数完美转发到所要创建的对象的构造函数，从 new 产生的原始指针里面构造出 std::unique_ptr，并返回这个std::unique_ptr。\n",
    "\n",
    "make_unique 和 make_shared 函数的特点：\n",
    "- 接受任意多个参数。\n",
    "- 完美转发到构造函数去动态分配一个对象。\n",
    "- 然后返回这个对象的指针。\n",
    "\n"
   ]
  }
 ],
 "metadata": {
  "kernelspec": {
   "display_name": "Python 3 (ipykernel)",
   "language": "python",
   "name": "python3"
  },
  "language_info": {
   "codemirror_mode": {
    "name": "ipython",
    "version": 3
   },
   "file_extension": ".py",
   "mimetype": "text/x-python",
   "name": "python",
   "nbconvert_exporter": "python",
   "pygments_lexer": "ipython3",
   "version": "3.10.9"
  }
 },
 "nbformat": 4,
 "nbformat_minor": 5
}
