{
 "cells": [
  {
   "cell_type": "markdown",
   "id": "e481b5c8",
   "metadata": {},
   "source": [
    "# 19: 对于共享资源使用std::shared_ptr\n",
    "\n",
    "std::shared_ptr 通过引用计数（reference count）来确保它是否是最后一个指向某种资源的指针，引用计数关联资源并跟踪有多少 std::shared_ptr指向该资源。\n",
    "\n",
    "\n",
    "引用计数暗示着性能问题：\n",
    "- std::shared_ptr 大小是原始指针的两倍，因为它内部包含一个指向资源的原始指针，还包含一个指向资源的引用计数值的原始指针。\n",
    "- 引用计数的内存必须动态分配。\n",
    "- 递增递减引用计数必须是原子性的。并发情况下需要保证引用计数的原子性。"
   ]
  },
  {
   "cell_type": "markdown",
   "id": "f4894575",
   "metadata": {},
   "source": [
    "## std::shared_ptr 的拷贝和移动操作速度\n",
    "\n",
    "拷贝操作会增加引用计数值，移动操作不会，因此 std::shared_ptr 移动操作会比拷贝快。"
   ]
  },
  {
   "cell_type": "markdown",
   "id": "43c5c12e",
   "metadata": {},
   "source": [
    "## std::shared_ptr 的数据结构\n",
    "\n",
    "###  删除器\n",
    "\n",
    "对于std::unique_ptr来说，删除器类型是智能指针类型的一部分。对于std::shared_ptr则不是，如下：\n",
    "\n",
    "```c++\n",
    "auto loggingDel = [](Widget *pw)        //自定义删除器\n",
    "                  {                     //（和条款18一样）\n",
    "                      makeLogEntry(pw);\n",
    "                      delete pw;\n",
    "                  };\n",
    "\n",
    "std::unique_ptr<                        //删除器类型是\n",
    "    Widget, decltype(loggingDel)        //指针类型的一部分\n",
    "    > upw(new Widget, loggingDel);\n",
    "std::shared_ptr<Widget>                 //删除器类型不是\n",
    "    spw(new Widget, loggingDel);        //指针类型的一部分\n",
    "```\n",
    "\n",
    "std::shared_ptr的设计更为灵活。考虑有两个std::shared_ptr<Widget>，每个自带不同的删除器（比如通过lambda表达式自定义删除器):\n",
    "\n",
    "```c++\n",
    "auto customDeleter1 = [](Widget *pw) { … };     //自定义删除器，\n",
    "auto customDeleter2 = [](Widget *pw) { … };     //每种类型不同\n",
    "std::shared_ptr<Widget> pw1(new Widget, customDeleter1);\n",
    "std::shared_ptr<Widget> pw2(new Widget, customDeleter2);\n",
    "```\n",
    "    \n",
    "因为pw1和pw2有相同的类型，所以它们都可以放到存放那个类型的对象的容器中：\n",
    "\n",
    "```c++\n",
    "std::vector<std::shared_ptr<Widget>> vpw{ pw1, pw2 };  \n",
    "```"
   ]
  },
  {
   "cell_type": "markdown",
   "id": "f8d50176",
   "metadata": {},
   "source": [
    "### std::shared_ptr 对象和控制块\n",
    "\n",
    "![shared_ptr 数据结构](./images/shared_ptr.png)\n",
    "\n",
    "不管删除器是什么，一个std::shared_ptr对象都是两个指针大小。std::shared_ptr怎么能引用一个任意大的删除器而不使用更多的内存？\n",
    "\n",
    "它不能。它必须使用更多的内存。然而，那部分内存不是std::shared_ptr对象的一部分，这部分叫做数据结构叫做**控制块**。\n",
    "\n",
    "当指向对象的std::shared_ptr一创建，对象的控制块就建立了。\n",
    "\n",
    "每个std::shared_ptr管理的对象都有个相应的控制块。控制块除了包含引用计数值外还有一个自定义删除器的拷贝，当然前提是存在自定义删除器。如果用户还指定了自定义分配器，控制块也会包含一个分配器的拷贝。控制块可能还包含一些额外的数据，正如Item21提到的，一个次级引用计数weak count，但是目前我们先忽略它。"
   ]
  },
  {
   "cell_type": "markdown",
   "id": "4ad360ef",
   "metadata": {},
   "source": [
    "### 控制块的创建规则\n",
    "\n",
    "- std::make_shared（参见Item21）总是创建一个控制块。\n",
    "- 当从独占指针（即std::unique_ptr或者std::auto_ptr）上构造出std::shared_ptr时会创建控制块。\n",
    "- 当从原始指针上构造出std::shared_ptr时会创建控制块。"
   ]
  },
  {
   "cell_type": "markdown",
   "id": "1de50478",
   "metadata": {},
   "source": [
    "## 避免从原始指针变量上创建 std::shared_ptr\n",
    "\n",
    "```c++\n",
    "auto pw = new Widget;                           //pw是原始指针\n",
    "…\n",
    "std::shared_ptr<Widget> spw1(pw, loggingDel);   //为*pw创建控制块\n",
    "…\n",
    "std::shared_ptr<Widget> spw2(pw, loggingDel);   //为*pw创建第二个控制块\n",
    "```\n",
    "\n",
    "上面的代码存在多个错误：\n",
    "- 使用原始指针而不是智能指针。\n",
    "- 有两个控制块指向同一个对象`*pw`，两个控制块引用计数值都会变为零，最终导致同一个对象`*pw`被销毁两次。\n",
    "\n",
    "### 创建 std::shared_ptr 正确的写法\n",
    "\n",
    "- 避免传给 std::shared_ptr 构造函数原始指针。通常替代方案是使用 std::make_shared。\n",
    "- 如果你必须传给 std::shared_ptr 构造函数原始指针，直接传 new 出来的结果，不要传指针变量。如果上面代码第一部分这样重写：\n",
    "    ```c++\n",
    "    std::shared_ptr<Widget> spw1(new Widget,    //直接使用new的结果\n",
    "                                 loggingDel);\n",
    "    ```\n",
    "    这样可以避免原始指针构造第二个std::shared_ptr的可能。\n",
    "- 使用一个 shared_ptr 创建另一个 shared_ptr，调用的是 shared_ptr 的拷贝构造函数，这样两个 shared_ptr 使用的是同一个控制块：\n",
    "    ```c++\n",
    "    std::shared_ptr<Widget> spw2(spw1);         //spw2使用spw1一样的控制块\n",
    "    ```"
   ]
  },
  {
   "cell_type": "markdown",
   "id": "d8faf089",
   "metadata": {},
   "source": [
    "## 指针数组 vs 数组指针\n",
    "\n",
    "指针数组 `std::vector<std::shared_ptr<T>>` vs 数组指针`std::shared_ptr<T[]>`（数组指针是不合法的定义，无法通过编译）\n",
    "\n"
   ]
  },
  {
   "cell_type": "markdown",
   "id": "b39e392f",
   "metadata": {},
   "source": [
    "## 避免使用 this 指针作为 std::shared_ptr 构造函数的实参\n",
    "\n",
    "使用 this 指针作为 std::shared_ptr 构造函数的实参乐能导致创建多个控制块。\n",
    "\n",
    ".....\n"
   ]
  }
 ],
 "metadata": {
  "kernelspec": {
   "display_name": "Python 3 (ipykernel)",
   "language": "python",
   "name": "python3"
  },
  "language_info": {
   "codemirror_mode": {
    "name": "ipython",
    "version": 3
   },
   "file_extension": ".py",
   "mimetype": "text/x-python",
   "name": "python",
   "nbconvert_exporter": "python",
   "pygments_lexer": "ipython3",
   "version": "3.10.9"
  }
 },
 "nbformat": 4,
 "nbformat_minor": 5
}
