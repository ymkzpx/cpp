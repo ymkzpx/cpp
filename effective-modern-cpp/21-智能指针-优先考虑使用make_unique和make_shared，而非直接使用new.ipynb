{
 "cells": [
  {
   "cell_type": "markdown",
   "id": "70c16716",
   "metadata": {
    "tags": []
   },
   "source": [
    "# 21: 优先考虑使用 std::make_unique 和 std::make_shared，而非直接使用 new\n",
    "\n",
    "一个基础版本的 std::make_unique 是很容易自己写出的，如下：\n",
    "\n",
    "```c++\n",
    "template<typename T, typename... Ts>\n",
    "std::unique_ptr<T> make_unique(Ts&&... params)\n",
    "{\n",
    "    return std::unique_ptr<T>(new T(std::forward<Ts>(params)...));\n",
    "}\n",
    "```\n",
    "\n",
    "正如你看到的，make_unique 只是将它的参数完美转发到所要创建的对象的构造函数，从 new 产生的原始指针里面构造出 std::unique_ptr，并返回这个std::unique_ptr。\n",
    "\n",
    "make_unique 和 make_shared 函数的特点：\n",
    "- 接受任意多个参数。\n",
    "- 完美转发到构造函数去动态分配一个对象。\n",
    "- 然后返回这个对象的指针。\n",
    "\n",
    "## make_xxx 方法和 new 方法创建指针的比较：**\n",
    "\n",
    "- make_xxx 写法更简洁: 少写一次类型。\n",
    "    ```c++\n",
    "    auto upw1(std::make_unique<Widget>());      //使用make函数\n",
    "    std::unique_ptr<Widget> upw2(new Widget);   //不使用make函数\n",
    "    auto spw1(std::make_shared<Widget>());      //使用make函数\n",
    "    std::shared_ptr<Widget> spw2(new Widget);   //不使用make函数\n",
    "    ```\n",
    "\n",
    "- new 方法可能会产生内存泄露。\n",
    "- std::shared_ptr<Widget> spw(new Widget); 这种写法会申请两次内存。\n",
    "- "
   ]
  },
  {
   "cell_type": "code",
   "execution_count": null,
   "id": "e826df71-6cff-4b70-9866-0a68f3258bfc",
   "metadata": {},
   "outputs": [],
   "source": []
  }
 ],
 "metadata": {
  "kernelspec": {
   "display_name": "Python 3 (ipykernel)",
   "language": "python",
   "name": "python3"
  },
  "language_info": {
   "codemirror_mode": {
    "name": "ipython",
    "version": 3
   },
   "file_extension": ".py",
   "mimetype": "text/x-python",
   "name": "python",
   "nbconvert_exporter": "python",
   "pygments_lexer": "ipython3",
   "version": "3.9.7"
  }
 },
 "nbformat": 4,
 "nbformat_minor": 5
}
